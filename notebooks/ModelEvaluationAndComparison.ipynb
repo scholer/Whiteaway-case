{
 "cells": [
  {
   "cell_type": "markdown",
   "id": "a01f2583",
   "metadata": {},
   "source": [
    "# Model evaluation: quantification and comparison\n",
    "\n",
    "\n",
    "Hvordan kvantificerer vi hvor god en model er?\n",
    "\n",
    "* A/B testing. \n",
    "* Opdeling af dataset - brug den ene halvdel til at træne med, brug den anden til at kvantificere.\n",
    "\n",
    "\n",
    "Beregn fx: \n",
    "\n",
    "\n"
   ]
  },
  {
   "cell_type": "code",
   "execution_count": null,
   "id": "1133f86a",
   "metadata": {},
   "outputs": [],
   "source": []
  },
  {
   "cell_type": "code",
   "execution_count": null,
   "id": "c02700b8",
   "metadata": {},
   "outputs": [],
   "source": []
  }
 ],
 "metadata": {
  "kernelspec": {
   "display_name": "Python 3",
   "language": "python",
   "name": "python3"
  },
  "language_info": {
   "codemirror_mode": {
    "name": "ipython",
    "version": 3
   },
   "file_extension": ".py",
   "mimetype": "text/x-python",
   "name": "python",
   "nbconvert_exporter": "python",
   "pygments_lexer": "ipython3",
   "version": "3.9.5"
  }
 },
 "nbformat": 4,
 "nbformat_minor": 5
}
