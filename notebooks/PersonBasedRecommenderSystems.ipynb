{
 "cells": [
  {
   "cell_type": "markdown",
   "id": "84a19aa9",
   "metadata": {},
   "source": [
    "# Personalized Recommender Systems\n",
    "\n",
    "\n",
    "### Etablerede methoder fra litteraturen\n",
    "\n",
    "1. Collaborative filtering.\n",
    "2. Content-based recommendations.\n",
    "\n",
    "\n",
    "\n",
    "### Collaborative filtering\n",
    "\n",
    "\n",
    "Princip:\n",
    "\n",
    "* Brugere \"anbefaler\" de produkter de kommer i kontakt med.\n",
    "    * I vores tilfælde har vi kun en tabel med historiske salg.\n",
    "    * Hvis en kunde har købt et produkt, så siger vi at det er en anbefaling af produktet fra den bruger.\n",
    "    * Vi har såleder ikke nogen dårlige eller gode anbefalinger, kun et binært \"har købt\".\n",
    "\n",
    "* Opbyg sparse matrix med brugere i den ene dimension og produkter i den anden dimension.\n",
    "\n",
    "* Lav faktorisering af \n",
    "\n",
    "\n",
    "\n",
    "\n",
    "\n",
    "Python biblioteker:\n",
    "\n",
    "* `surprise`\n",
    "* `mplicit`\n",
    "* `LightFM`\n",
    "* `pyspark.mlib.recommendation`\n",
    "\n"
   ]
  },
  {
   "cell_type": "code",
   "execution_count": null,
   "id": "698a96d8",
   "metadata": {},
   "outputs": [],
   "source": []
  }
 ],
 "metadata": {
  "kernelspec": {
   "display_name": "Python 3",
   "language": "python",
   "name": "python3"
  },
  "language_info": {
   "codemirror_mode": {
    "name": "ipython",
    "version": 3
   },
   "file_extension": ".py",
   "mimetype": "text/x-python",
   "name": "python",
   "nbconvert_exporter": "python",
   "pygments_lexer": "ipython3",
   "version": "3.9.5"
  }
 },
 "nbformat": 4,
 "nbformat_minor": 5
}
