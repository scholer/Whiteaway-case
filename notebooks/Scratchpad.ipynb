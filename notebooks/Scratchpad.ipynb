{
 "cells": [
  {
   "cell_type": "code",
   "execution_count": 3,
   "id": "d4aaf586",
   "metadata": {},
   "outputs": [],
   "source": [
    "import numpy as np\n",
    "import pandas as pd\n",
    "import networkx as nx\n"
   ]
  },
  {
   "cell_type": "code",
   "execution_count": 1,
   "id": "807bcb44",
   "metadata": {},
   "outputs": [],
   "source": [
    "# Check that the main package has been installed (with pip install -e .)\n",
    "import src\n"
   ]
  },
  {
   "cell_type": "code",
   "execution_count": 4,
   "id": "a97bf125",
   "metadata": {},
   "outputs": [],
   "source": [
    "# Notebook configuration and utility functions:\n",
    "from IPython.display import display\n",
    "\n",
    "pd.options.display.max_rows = 100"
   ]
  },
  {
   "cell_type": "code",
   "execution_count": 5,
   "id": "1a2cb9ce",
   "metadata": {},
   "outputs": [],
   "source": [
    "# Download data: (Requires kaggle login)\n",
    "\n",
    "# Option 1: Download manually from https://www.kaggle.com/carrie1/ecommerce-data\n",
    "# * Unzip and place csv file in data/raw/data.csv\n",
    "\n",
    "# Option 2: Download automatically using Kaggle API \n",
    "\n",
    "# Options for storing credentials: environment variables or user-config file.\n",
    "# Auth in environment vars:\n",
    "#   export KAGGLE_USERNAME=datadinosaur\n",
    "#   export KAGGLE_KEY=xxxxxxxxxxxxxx\n",
    "# Auth in kaggle.json file: \n",
    "# Download kaggle.json from account page on kaggle.com and place in ~/.kaggle/kaggle.json\n",
    "# pip install kaggle\n",
    "\n",
    "# import kaggle\n",
    "# kaggle.api.authenticate()\n",
    "# kaggle.api.dataset_download_files(\n",
    "#     'The_name_of_the_dataset', \n",
    "#     path='data/raw', \n",
    "#     unzip=True\n",
    "# )"
   ]
  },
  {
   "cell_type": "code",
   "execution_count": 21,
   "id": "11d597c1",
   "metadata": {},
   "outputs": [
    {
     "name": "stdout",
     "output_type": "stream",
     "text": [
      "Table rows: 541909\n"
     ]
    },
    {
     "data": {
      "text/html": [
       "<div>\n",
       "<style scoped>\n",
       "    .dataframe tbody tr th:only-of-type {\n",
       "        vertical-align: middle;\n",
       "    }\n",
       "\n",
       "    .dataframe tbody tr th {\n",
       "        vertical-align: top;\n",
       "    }\n",
       "\n",
       "    .dataframe thead th {\n",
       "        text-align: right;\n",
       "    }\n",
       "</style>\n",
       "<table border=\"1\" class=\"dataframe\">\n",
       "  <thead>\n",
       "    <tr style=\"text-align: right;\">\n",
       "      <th></th>\n",
       "      <th>InvoiceNo</th>\n",
       "      <th>StockCode</th>\n",
       "      <th>Description</th>\n",
       "      <th>Quantity</th>\n",
       "      <th>InvoiceDate</th>\n",
       "      <th>UnitPrice</th>\n",
       "      <th>CustomerID</th>\n",
       "      <th>Country</th>\n",
       "    </tr>\n",
       "  </thead>\n",
       "  <tbody>\n",
       "    <tr>\n",
       "      <th>38245</th>\n",
       "      <td>539492</td>\n",
       "      <td>90176B</td>\n",
       "      <td>DIAMANTE NECKLACE BLACK</td>\n",
       "      <td>1</td>\n",
       "      <td>12/20/2010 10:14</td>\n",
       "      <td>7.64</td>\n",
       "      <td></td>\n",
       "      <td>United Kingdom</td>\n",
       "    </tr>\n",
       "    <tr>\n",
       "      <th>38246</th>\n",
       "      <td>539492</td>\n",
       "      <td>90197B</td>\n",
       "      <td>BLACK GLASS BRACELET W HEART CHARMS</td>\n",
       "      <td>1</td>\n",
       "      <td>12/20/2010 10:14</td>\n",
       "      <td>5.09</td>\n",
       "      <td></td>\n",
       "      <td>United Kingdom</td>\n",
       "    </tr>\n",
       "    <tr>\n",
       "      <th>38247</th>\n",
       "      <td>539492</td>\n",
       "      <td>90209C</td>\n",
       "      <td>PINK ENAMEL+GLASS HAIR COMB</td>\n",
       "      <td>1</td>\n",
       "      <td>12/20/2010 10:14</td>\n",
       "      <td>2.11</td>\n",
       "      <td></td>\n",
       "      <td>United Kingdom</td>\n",
       "    </tr>\n",
       "    <tr>\n",
       "      <th>38248</th>\n",
       "      <td>539492</td>\n",
       "      <td>gift_0001_40</td>\n",
       "      <td>Dotcomgiftshop Gift Voucher £40.00</td>\n",
       "      <td>1</td>\n",
       "      <td>12/20/2010 10:14</td>\n",
       "      <td>34.04</td>\n",
       "      <td></td>\n",
       "      <td>United Kingdom</td>\n",
       "    </tr>\n",
       "    <tr>\n",
       "      <th>38249</th>\n",
       "      <td>539492</td>\n",
       "      <td>DOT</td>\n",
       "      <td>DOTCOM POSTAGE</td>\n",
       "      <td>1</td>\n",
       "      <td>12/20/2010 10:14</td>\n",
       "      <td>396.81</td>\n",
       "      <td></td>\n",
       "      <td>United Kingdom</td>\n",
       "    </tr>\n",
       "    <tr>\n",
       "      <th>38250</th>\n",
       "      <td>539492</td>\n",
       "      <td>21481</td>\n",
       "      <td>FAWN BLUE HOT WATER BOTTLE</td>\n",
       "      <td>11</td>\n",
       "      <td>12/20/2010 10:14</td>\n",
       "      <td>2.95</td>\n",
       "      <td></td>\n",
       "      <td>United Kingdom</td>\n",
       "    </tr>\n",
       "    <tr>\n",
       "      <th>38251</th>\n",
       "      <td>539493</td>\n",
       "      <td>22585</td>\n",
       "      <td>PACK OF 6 BIRDY GIFT TAGS</td>\n",
       "      <td>2</td>\n",
       "      <td>12/20/2010 10:15</td>\n",
       "      <td>1.25</td>\n",
       "      <td></td>\n",
       "      <td>United Kingdom</td>\n",
       "    </tr>\n",
       "    <tr>\n",
       "      <th>38252</th>\n",
       "      <td>539493</td>\n",
       "      <td>21111</td>\n",
       "      <td>SWISS ROLL TOWEL, CHOCOLATE  SPOTS</td>\n",
       "      <td>1</td>\n",
       "      <td>12/20/2010 10:15</td>\n",
       "      <td>1.48</td>\n",
       "      <td></td>\n",
       "      <td>United Kingdom</td>\n",
       "    </tr>\n",
       "    <tr>\n",
       "      <th>38253</th>\n",
       "      <td>539493</td>\n",
       "      <td>21110</td>\n",
       "      <td>LARGE CAKE TOWEL PINK SPOTS</td>\n",
       "      <td>1</td>\n",
       "      <td>12/20/2010 10:15</td>\n",
       "      <td>3.38</td>\n",
       "      <td></td>\n",
       "      <td>United Kingdom</td>\n",
       "    </tr>\n",
       "    <tr>\n",
       "      <th>38254</th>\n",
       "      <td>539493</td>\n",
       "      <td>72799F</td>\n",
       "      <td>IVORY PILLAR CANDLE GOLD FLOCK</td>\n",
       "      <td>1</td>\n",
       "      <td>12/20/2010 10:15</td>\n",
       "      <td>2.95</td>\n",
       "      <td></td>\n",
       "      <td>United Kingdom</td>\n",
       "    </tr>\n",
       "    <tr>\n",
       "      <th>38255</th>\n",
       "      <td>539493</td>\n",
       "      <td>21743</td>\n",
       "      <td>STAR PORTABLE TABLE LIGHT</td>\n",
       "      <td>2</td>\n",
       "      <td>12/20/2010 10:15</td>\n",
       "      <td>2.95</td>\n",
       "      <td></td>\n",
       "      <td>United Kingdom</td>\n",
       "    </tr>\n",
       "  </tbody>\n",
       "</table>\n",
       "</div>"
      ],
      "text/plain": [
       "      InvoiceNo     StockCode                          Description  Quantity  \\\n",
       "38245    539492        90176B             DIAMANTE NECKLACE BLACK          1   \n",
       "38246    539492        90197B  BLACK GLASS BRACELET W HEART CHARMS         1   \n",
       "38247    539492        90209C          PINK ENAMEL+GLASS HAIR COMB         1   \n",
       "38248    539492  gift_0001_40   Dotcomgiftshop Gift Voucher £40.00         1   \n",
       "38249    539492           DOT                       DOTCOM POSTAGE         1   \n",
       "38250    539492         21481           FAWN BLUE HOT WATER BOTTLE        11   \n",
       "38251    539493         22585            PACK OF 6 BIRDY GIFT TAGS         2   \n",
       "38252    539493         21111   SWISS ROLL TOWEL, CHOCOLATE  SPOTS         1   \n",
       "38253    539493         21110          LARGE CAKE TOWEL PINK SPOTS         1   \n",
       "38254    539493        72799F       IVORY PILLAR CANDLE GOLD FLOCK         1   \n",
       "38255    539493         21743           STAR PORTABLE TABLE LIGHT          2   \n",
       "\n",
       "            InvoiceDate  UnitPrice CustomerID         Country  \n",
       "38245  12/20/2010 10:14       7.64             United Kingdom  \n",
       "38246  12/20/2010 10:14       5.09             United Kingdom  \n",
       "38247  12/20/2010 10:14       2.11             United Kingdom  \n",
       "38248  12/20/2010 10:14      34.04             United Kingdom  \n",
       "38249  12/20/2010 10:14     396.81             United Kingdom  \n",
       "38250  12/20/2010 10:14       2.95             United Kingdom  \n",
       "38251  12/20/2010 10:15       1.25             United Kingdom  \n",
       "38252  12/20/2010 10:15       1.48             United Kingdom  \n",
       "38253  12/20/2010 10:15       3.38             United Kingdom  \n",
       "38254  12/20/2010 10:15       2.95             United Kingdom  \n",
       "38255  12/20/2010 10:15       2.95             United Kingdom  "
      ]
     },
     "execution_count": 21,
     "metadata": {},
     "output_type": "execute_result"
    }
   ],
   "source": [
    "# Load data\n",
    "input_fn = \"../data/raw/data.csv\"\n",
    "# df = df_raw = pd.read_csv(\"../data/raw/data.csv\")\n",
    "# keep_default_na=False Giver mere kontrol over tomme strings.\n",
    "# encoding='Latin-1' (ISO-8859-1) is sometimes needed. If strings still look weird, try  ISO-8859-15.\n",
    "# (Problematic byte is '£', e.g. Dotcomgiftshop Gift Voucher £40.00 in line 38250).\n",
    "# Sometimes you can also just to ask Pandas to use python engine instead of C with `engine='python'`.\n",
    "df = df_raw = pd.read_csv(\"../data/raw/data.csv\", keep_default_na=False, encoding='Latin-1')   # Works\n",
    "# df = df_raw = pd.read_csv(\"../data/raw/data.csv\", keep_default_na=False, engine='python')\n",
    "print(f\"Table rows:\", len(df))\n",
    "# df.head()\n",
    "df.loc[38245:38255]"
   ]
  },
  {
   "cell_type": "code",
   "execution_count": 19,
   "id": "431d24a9",
   "metadata": {},
   "outputs": [
    {
     "name": "stdout",
     "output_type": "stream",
     "text": [
      "b'TLE,2,12/1/2010 12:35,3.95,17377,United '\n",
      "  0123456789012345678901234567890123456789\n"
     ]
    }
   ],
   "source": [
    "# If you get a \n",
    "# UnicodeDecodeError: 'utf-8' codec can't decode byte 0xa3 in position 79780: invalid start byte\n",
    "# The problematic byte is the British pound sign, '£'.\n",
    "# Can be solved by selecting , encoding='Latin-1'\n",
    "# OBS: Pandas reads the file in chunks, so is likely not position 79780 in the actual file.\n",
    "input_fn = \"../data/raw/data.csv\"\n",
    "err_pos = 79780\n",
    "with open(input_fn, mode=\"rb\") as f:\n",
    "    f.seek(err_pos-20)\n",
    "    s = f.read(40)\n",
    "    print(s)\n",
    "    print(\"  \"  + \"0123456789\"*4)\n",
    "\n"
   ]
  },
  {
   "cell_type": "code",
   "execution_count": null,
   "id": "42f9a23b",
   "metadata": {},
   "outputs": [],
   "source": [
    "# Remove bad data:\n",
    "df = df_raw\n",
    "print(\"Rows before QA filtering:\", len(df))\n",
    "\n",
    "# Remove lines with N/A values:\n",
    "for column in df.columns:\n",
    "    print(f\" - NaN {column}:\", df[column].isna().sum()) \n",
    "df = df_dropna = df.dropna()\n",
    "print(\"Rows after dropping N/A:\", len(df))\n",
    "\n",
    "print(\"Columns with empty values:\")\n",
    "for column in df.columns:\n",
    "    print(f\" - {column} empty values:\", (df[column] == '').sum()) \n",
    "    df = df[~(df[column] == '')]\n",
    "print(\"Rows after dropping rows with empty values:\", len(df))\n",
    "    \n",
    "# Remove lines that does not represent an actual product:\n",
    "print(\"Non-product stock codes:\")\n",
    "non_product_stock_codes = ['BANK CHARGES', 'C2', 'CRUK', 'D', 'DOT', 'M', 'PADS', 'POST']\n",
    "for code in non_product_stock_codes:\n",
    "    print(f\" - {code} lines:\", (df['StockCode'] == code).sum()) \n",
    "df = df[~df['StockCode'].isin(['BANK CHARGES', 'C2', 'CRUK', 'D', 'DOT', 'M', 'PADS', 'POST'])]\n",
    "print(\"Rows after dropping non-product lines:\", len(df))\n",
    "\n",
    "# # print(f\" - Number of POSTAGE lines:\", len(df['StockCode'] == \"POST\"))\n",
    "# print(f\" - No. of POSTAGE lines:\", (df['StockCode'] == \"POST\").sum())\n",
    "# df = df[df['StockCode'] != \"POST\"]\n",
    "# print(\"Rows after removing POST:\", len(df))\n",
    "\n",
    "print(\"Rows after QA filtering:\", len(df))\n",
    "\n",
    "df.head()"
   ]
  },
  {
   "cell_type": "code",
   "execution_count": null,
   "id": "c42fc4fa",
   "metadata": {},
   "outputs": [],
   "source": [
    "# Reduce table size for dev/testing:\n",
    "# df_org = df\n",
    "# df = df[:10000]"
   ]
  },
  {
   "cell_type": "code",
   "execution_count": null,
   "id": "e825f37e",
   "metadata": {},
   "outputs": [],
   "source": [
    "# Per-order stats:\n",
    "\n",
    "grouped_by_invoiceno = df.groupby(\"InvoiceNo\")\n",
    "\n",
    "# Number of different products per order (not including quantity)\n",
    "order_sizes = grouped_by_invoiceno.size()\n",
    "axes = grouped_by_invoiceno.size().hist(bins=order_sizes.max(), figsize=(12, 4))\n",
    "\n"
   ]
  },
  {
   "cell_type": "code",
   "execution_count": null,
   "id": "5529b67d",
   "metadata": {},
   "outputs": [],
   "source": [
    "# Interestingly, we have a few orders containing a great number of different products.\n",
    "axes.set_xlim(0, 100)\n",
    "# axes.set_ylim(0, 20)\n",
    "display(axes.figure)"
   ]
  },
  {
   "cell_type": "code",
   "execution_count": null,
   "id": "579020ae",
   "metadata": {},
   "outputs": [],
   "source": [
    "# Interestingly, we have a few orders containing a great number of different products.\n",
    "axes.set_xlim(100, 600)\n",
    "axes.set_ylim(0, 20)\n",
    "display(axes.figure)"
   ]
  },
  {
   "cell_type": "code",
   "execution_count": null,
   "id": "4a22edf2",
   "metadata": {},
   "outputs": [],
   "source": [
    "# What is the largest order?\n",
    "\n",
    "print(\"Number of items in order with most unique items:\", grouped_by_invoiceno.size().max())\n",
    "\n",
    "# invoice_with_most_unique_items = grouped_by_invoiceno.size().argmax()  # This is the row number\n",
    "invoice_with_most_unique_items = grouped_by_invoiceno.size().idxmax()  # This is the index\n",
    "\n",
    "print(invoice_with_most_unique_items)\n",
    "\n",
    "# grouped_by_invoiceno.groups[invoice_with_most_unique_items]\n",
    "with pd.option_context('display.max_rows', 100):\n",
    "    # Need to explicitly use df.head(), otherwise Jupyter Notebook is in charge of selecting table size\n",
    "    display(grouped_by_invoiceno.get_group(invoice_with_most_unique_items).head(20))\n",
    "\n",
    "\n",
    "\n",
    "# This seems to be an adhoc invoice for some data with no customer ID?\n"
   ]
  },
  {
   "cell_type": "code",
   "execution_count": null,
   "id": "9e97d9b1",
   "metadata": {},
   "outputs": [],
   "source": [
    "type(grouped_by_invoiceno)"
   ]
  },
  {
   "cell_type": "code",
   "execution_count": null,
   "id": "7293180b",
   "metadata": {
    "scrolled": false
   },
   "outputs": [],
   "source": [
    "print(\"Number of rows with N/A CustomerID:\", df['CustomerID'].isna().sum())\n",
    "df[df['CustomerID'].isna()]"
   ]
  },
  {
   "cell_type": "code",
   "execution_count": null,
   "id": "6872c7d6",
   "metadata": {},
   "outputs": [],
   "source": [
    "print(\"Number of lines with N/A Description:\", df['Description'].isna().sum())\n",
    "df[df['Description'].isna()]['CustomerID'].isna().sum()"
   ]
  },
  {
   "cell_type": "code",
   "execution_count": null,
   "id": "f9951ad7",
   "metadata": {},
   "outputs": [],
   "source": [
    "print(\"Are all lines with N/A Description also with N/A CustomerID?\")\n",
    "df[df['Description'].isna()]['CustomerID'].isna().sum()\n",
    "print(\"Yes.\")\n",
    "\n",
    "df[df['Description'].isna()]['CustomerID'].dropna()\n"
   ]
  },
  {
   "cell_type": "code",
   "execution_count": null,
   "id": "62258752",
   "metadata": {},
   "outputs": [],
   "source": []
  },
  {
   "cell_type": "code",
   "execution_count": null,
   "id": "6172631a",
   "metadata": {},
   "outputs": [],
   "source": [
    "nx.Graph.to_net"
   ]
  },
  {
   "cell_type": "code",
   "execution_count": null,
   "id": "010bc60e",
   "metadata": {},
   "outputs": [],
   "source": [
    "import timeit\n",
    "timeit.timeit?\n",
    "# timeit.Timer.timeit?"
   ]
  },
  {
   "cell_type": "code",
   "execution_count": null,
   "id": "92f744ce",
   "metadata": {},
   "outputs": [],
   "source": []
  },
  {
   "cell_type": "code",
   "execution_count": null,
   "id": "86f67693",
   "metadata": {
    "scrolled": true
   },
   "outputs": [],
   "source": [
    "# How does the product codes look?\n",
    "# \"POST\" is the most frequent?\n",
    "# What is that?\n",
    "\n",
    "with pd.option_context('display.max_rows', 100):\n",
    "    display(df['StockCode'].sort_values().tail(100))"
   ]
  },
  {
   "cell_type": "code",
   "execution_count": null,
   "id": "f66a999d",
   "metadata": {},
   "outputs": [],
   "source": [
    "# POSTAGE is applied to countries outside of UK:\n",
    "\n",
    "print(f\" - Number of POSTAGE lines:\", (df['StockCode'] == \"POST\").sum())\n",
    "\n",
    "df_post = df[df['StockCode'] == \"POST\"]\n",
    "display(df_post)\n",
    "\n",
    "df_post['Country'].unique()"
   ]
  },
  {
   "cell_type": "code",
   "execution_count": null,
   "id": "1395a24d",
   "metadata": {},
   "outputs": [],
   "source": [
    "# Lad os se hvad folk i Danmark har købt:\n",
    "df[df['Country'] == \"Denmark\"]"
   ]
  },
  {
   "cell_type": "code",
   "execution_count": null,
   "id": "1838cef1",
   "metadata": {},
   "outputs": [],
   "source": [
    "# Other weird StockCodes:\n",
    "# 'BANK CHARGES', 'C2', 'CRUK', 'D', 'DOT', 'M', 'PADS'\n",
    "\n",
    "df[df['StockCode'] == 'C2']"
   ]
  },
  {
   "cell_type": "code",
   "execution_count": null,
   "id": "068f7eb7",
   "metadata": {},
   "outputs": [],
   "source": [
    "df[df['StockCode'] == 'CRUK']\n"
   ]
  },
  {
   "cell_type": "code",
   "execution_count": null,
   "id": "f7802a7f",
   "metadata": {},
   "outputs": [],
   "source": [
    "\n",
    "df_weird_stockcodes = df[df['StockCode'].isin(['BANK CHARGES', 'C2', 'CRUK', 'D', 'DOT', 'M', 'PADS', 'POST'])]\n",
    "\n",
    "print(\"Rows with weird stock codes:\", len(df_weird_stockcodes))\n",
    "df_weird_stockcodes"
   ]
  },
  {
   "cell_type": "code",
   "execution_count": null,
   "id": "3c161719",
   "metadata": {},
   "outputs": [],
   "source": [
    "print(len(df))\n",
    "\n",
    "len(df[~df['StockCode'].isin(['BANK CHARGES', 'C2', 'CRUK', 'D', 'DOT', 'M', 'PADS', 'POST'])])"
   ]
  },
  {
   "cell_type": "code",
   "execution_count": null,
   "id": "ed61b4bd",
   "metadata": {
    "scrolled": false
   },
   "outputs": [],
   "source": [
    "non_product_stock_codes = ['BANK CHARGES', 'C2', 'CRUK', 'D', 'DOT', 'M', 'PADS', 'POST']\n",
    "\n",
    "for stockcode in non_product_stock_codes:\n",
    "    display(df[df['StockCode'] == stockcode])\n"
   ]
  },
  {
   "cell_type": "code",
   "execution_count": null,
   "id": "58889dcc",
   "metadata": {},
   "outputs": [],
   "source": [
    "df['StockCode'].unique()"
   ]
  },
  {
   "cell_type": "code",
   "execution_count": null,
   "id": "32cd54fe",
   "metadata": {},
   "outputs": [],
   "source": [
    "all_stockcodes = np.sort(df['StockCode'].unique())\n",
    "print(\", \".join(all_stockcodes[-100:]))\n"
   ]
  },
  {
   "cell_type": "code",
   "execution_count": null,
   "id": "2f2a2199",
   "metadata": {},
   "outputs": [],
   "source": [
    "df.sort_values('StockCode').tail(20)\n",
    "df_pr"
   ]
  },
  {
   "cell_type": "code",
   "execution_count": null,
   "id": "142ccba1",
   "metadata": {},
   "outputs": [],
   "source": [
    "products_by_orders_count = df.groupby('StockCode')['InvoiceNo'].count().sort_values(ascending=False)\n",
    "products_by_orders_count"
   ]
  },
  {
   "cell_type": "code",
   "execution_count": null,
   "id": "19c10276",
   "metadata": {},
   "outputs": [],
   "source": [
    "# Først, lav en tabel med alle produkter.\n",
    "sales_df = df\n",
    "products_df = sales_df.groupby('StockCode').first()\n",
    "del products_df['InvoiceNo']\n",
    "del products_df['Quantity']\n",
    "del products_df['CustomerID']\n",
    "del products_df['Country']\n",
    "\n",
    "# Beregn product order count:\n",
    "# product_orders_count = df.groupby('StockCode')['InvoiceNo'].count().sort_values(ascending=False)\n",
    "products_df['OrdersCount'] = sales_df.groupby('StockCode')['InvoiceNo'].count()\n",
    "\n",
    "products_df_sorted = products_df.sort_values(by='OrdersCount', ascending=False)\n",
    "\n",
    "products_df_sorted.tail(20)"
   ]
  },
  {
   "cell_type": "code",
   "execution_count": null,
   "id": "407a5b9a",
   "metadata": {},
   "outputs": [],
   "source": [
    "sales_df.groupby('StockCode').first().sort_values(by='StockCode').tail(20)"
   ]
  },
  {
   "cell_type": "code",
   "execution_count": null,
   "id": "390779ce",
   "metadata": {},
   "outputs": [],
   "source": [
    "products_df_sorted.index.array\n",
    "dir(products_df_sorted.index)"
   ]
  },
  {
   "cell_type": "code",
   "execution_count": null,
   "id": "121e1a33",
   "metadata": {},
   "outputs": [],
   "source": [
    "type(products_df_sorted.index[0])"
   ]
  },
  {
   "cell_type": "code",
   "execution_count": null,
   "id": "d1f6f94e",
   "metadata": {},
   "outputs": [],
   "source": [
    "products_df_sorted.at[]"
   ]
  },
  {
   "cell_type": "code",
   "execution_count": null,
   "id": "37dabc7c",
   "metadata": {},
   "outputs": [],
   "source": [
    "[att for att in dir(pd.Series) if 'sort' in att]"
   ]
  },
  {
   "cell_type": "code",
   "execution_count": null,
   "id": "543e5d8d",
   "metadata": {},
   "outputs": [],
   "source": [
    "df.groupby(\"InvoiceNo\").size().value_counts().sort_index().head(20)\n"
   ]
  },
  {
   "cell_type": "code",
   "execution_count": null,
   "id": "9af9093d",
   "metadata": {},
   "outputs": [],
   "source": [
    "df.groupby(\"InvoiceNo\").size().value_counts().sort_index()[0:100].plot.line()"
   ]
  },
  {
   "cell_type": "code",
   "execution_count": null,
   "id": "558028f0",
   "metadata": {},
   "outputs": [],
   "source": [
    "len(df.groupby(\"InvoiceNo\"))"
   ]
  },
  {
   "cell_type": "code",
   "execution_count": null,
   "id": "006ed033",
   "metadata": {},
   "outputs": [],
   "source": [
    "# Build same-order undirected graph:\n",
    "# dict[StockCode1][StockCode2] = count\n",
    "\n",
    "grouped_by_invoiceno = df.groupby(\"InvoiceNo\")\n",
    "\n",
    "# print(\"Total orders (invoices):\", grouped_by_invoiceno.ngroups)\n",
    "print(\"Dataset:\")\n",
    "print(f\"- {len(df)} rows,\")\n",
    "print(f\"- {df.groupby('InvoiceNo').ngroups} orders/invoices,\")\n",
    "print(f\"- {len(df['StockCode'].unique())} unique StockCodes.\")\n",
    "\n",
    "def build_sameorder_product_dod_using_cartesian_forloop(df):\n",
    "    # We use a double default-dict, but since most StockCodes are present, \n",
    "    # it is probably faster to pre-populate the outer dict with *all* StockCodes.\n",
    "    # Also, we only have 3684, so it would be possible to use an adjacency matrix, \n",
    "    # instead of adjacency list - only about 10M values so about 40-80 MB. \n",
    "    \n",
    "    sameorder_dod = defaultdict(lambda: defaultdict(int))\n",
    "    for invoiceno, order_df in df.groupby(\"InvoiceNo\"):\n",
    "        # Can use either itertools.product or itertools.combinations:\n",
    "        # itertools.combinations only gives unique combinations, but can do more than two.\n",
    "        for stock_code1, stock_code2 in itertools.product(order_df['StockCode'], repeat=2):\n",
    "            if stock_code1 == stock_code2:\n",
    "                continue\n",
    "            sameorder_dod[stock_code1][stock_code2] += 1\n",
    "    return sameorder_dod\n",
    "\n",
    "\n",
    "# Let's measure performance of using \n",
    "# for-loop over product(order_df['StockCode'], order_df['StockCode']), for each order, grouped by InvoiceNo:\n",
    "# Time to compute:\n",
    "ttc = timeit.timeit(\n",
    "    'global sameorder_g_dod; '\n",
    "    'sameorder_g_dod = build_sameorder_product_dod_using_cartesian_forloop(df)', \n",
    "    globals=locals(), \n",
    "    number=1\n",
    ")\n",
    "\n",
    "print(f\"\\nTime to compute same-order dict-of-dict, \"\n",
    "      f\"using for-loop on cartesian product of StockCodes in each order: {ttc:.01f} sec\")\n",
    "print(\" - single-threaded and inefficient for-loop.\")\n",
    "print(\" - number of nodes:\", len(sameorder_g_dod), \"(single-product orders do not contribute to same-order graph)\")\n",
    "# sameorder_g_dod = build_sameorder_product_dod(df)\n"
   ]
  },
  {
   "cell_type": "code",
   "execution_count": null,
   "id": "c7e8b518",
   "metadata": {},
   "outputs": [],
   "source": []
  },
  {
   "cell_type": "code",
   "execution_count": null,
   "id": "3f2b76fb",
   "metadata": {},
   "outputs": [],
   "source": [
    "weights = [1, 3, 8, 4, 5, 0.5]\n",
    "weights = np.array(weights)\n",
    "sidxs = np.argsort(weights)\n",
    "weights[np.argsort(weights)]"
   ]
  },
  {
   "cell_type": "code",
   "execution_count": null,
   "id": "0738a693",
   "metadata": {},
   "outputs": [],
   "source": [
    "# What were the rows with N/A CustomerID\n",
    "\n",
    "df_raw[df_raw['CustomerID'].isna()]\n",
    "\n",
    "# row 622 / line 624: Empty string.\n",
    "# 536414,22139,,56,12/1/2010 11:52,0,,United Kingdom\n"
   ]
  },
  {
   "cell_type": "code",
   "execution_count": null,
   "id": "13cf92cd",
   "metadata": {},
   "outputs": [],
   "source": [
    "timeit.default_timer()"
   ]
  },
  {
   "cell_type": "code",
   "execution_count": null,
   "id": "84ac3b07",
   "metadata": {},
   "outputs": [],
   "source": [
    "\n",
    "df[(df['CustomerID'] == '12583')]\n",
    "df[(df['CustomerID'] == '12583') & (df['StockCode'] == '142')]\n",
    "\n",
    "# Index is original df row index\n",
    "\n",
    "df.loc[31]\n",
    "df.loc[142]"
   ]
  },
  {
   "cell_type": "code",
   "execution_count": null,
   "id": "ad66e38b",
   "metadata": {},
   "outputs": [],
   "source": [
    "with pd.option_context('display.max_rows', 100):\n",
    "    display(df[df['StockCode'] == '10002'].head(50))"
   ]
  },
  {
   "cell_type": "code",
   "execution_count": null,
   "id": "cfaccb54",
   "metadata": {
    "scrolled": false
   },
   "outputs": [],
   "source": [
    "# with pd.option_context('display.max_rows', 100):\n",
    "#     next(iter(df.groupby('StockCode')['CustomerID']))[1].head(50)\n",
    "\n",
    "code, gs = next(iter(df.groupby('StockCode')['CustomerID']))\n",
    "print(f\"CustomerIDs for StockCode {code!r}:\")\n",
    "print(f\"{gs.unique()=}\")\n",
    "print(f\"{len(gs)=}\")\n",
    "print(f\"{len(gs.unique())=}\")\n",
    "print(f\"{gs.nunique()=}\")\n",
    "print(f\"{gs.size=}\")\n",
    "\n",
    "display(gs.head(50))\n",
    "\n",
    "gs.value_counts()"
   ]
  },
  {
   "cell_type": "code",
   "execution_count": null,
   "id": "2593dd8a",
   "metadata": {},
   "outputs": [],
   "source": [
    "pandas.core.groupby.generic.SeriesGroupBy.unique?"
   ]
  },
  {
   "cell_type": "code",
   "execution_count": null,
   "id": "3afc83b3",
   "metadata": {},
   "outputs": [],
   "source": [
    "# Beregn product order count:\n",
    "# product_orders_count = df.groupby('StockCode')['InvoiceNo'].count().sort_values(ascending=False)\n",
    "product_orders_count = df.groupby('StockCode')['InvoiceNo'].count()\n",
    "products_df['OrdersCount'] = product_orders_count\n",
    "\n",
    "# Beregn hvor mange brugere har købt hvert enkelt produkt:\n",
    "product_users_count = df.groupby(by='StockCode')['CustomerID'].nunique()\n",
    "# product_users_count = df.groupby(by='StockCode')['CustomerID'].value_counts()\n",
    "display(product_users_count)\n",
    "\n",
    "products_df['UsersCount'] = product_users_count\n",
    "\n",
    "\n",
    "# for code, gdf in df.groupby('StockCode')['CustomerID']:\n",
    "#     print(len(gdf))\n",
    "#     print(len(gdf.unique()))\n",
    "#     print(gdf.nunique())\n",
    "#     display(gdf)\n",
    "#     break\n",
    "display(products_df)"
   ]
  },
  {
   "cell_type": "code",
   "execution_count": null,
   "id": "0d50ce14",
   "metadata": {},
   "outputs": [],
   "source": [
    "# Forskel: Antal brugere vs antal orders:\n",
    "products_df['OrdersCount'] - products_df['UsersCount']\n",
    "(products_df['OrdersCount'] - products_df['UsersCount']).max()\n",
    "# Uh, det lader til at ingen kunder har købt den samme ting to gange??\n"
   ]
  },
  {
   "cell_type": "code",
   "execution_count": null,
   "id": "4416ec23",
   "metadata": {},
   "outputs": [],
   "source": [
    "# Alternativ beregning, tjek om der er nogen brugere som har købt det samme produkt flere gange:\n",
    "users_product_count = df.groupby('CustomerID')['StockCode'].count().sort_values(ascending=False)\n",
    "users_product_count.head(20)"
   ]
  },
  {
   "cell_type": "code",
   "execution_count": null,
   "id": "a1a73725",
   "metadata": {},
   "outputs": [],
   "source": [
    "df[df['CustomerID'] == '17841'].sort_values('StockCode')"
   ]
  },
  {
   "cell_type": "code",
   "execution_count": null,
   "id": "e702e137",
   "metadata": {},
   "outputs": [],
   "source": [
    "df[df['CustomerID'] == '17841'].sort_values('StockCode')"
   ]
  },
  {
   "cell_type": "code",
   "execution_count": null,
   "id": "5d00d917",
   "metadata": {},
   "outputs": [],
   "source": [
    "df[df['StockCode'] == '15044A'].sort_values('CustomerID')"
   ]
  },
  {
   "cell_type": "code",
   "execution_count": null,
   "id": "cac2abf4",
   "metadata": {},
   "outputs": [],
   "source": [
    "df_15044A_sby_customer = df[df['StockCode'] == '15044A'].sort_values('CustomerID')\n",
    "print(\"Antal salg af StockCode '15044A':\", len(df_15044A_sby_customer))\n",
    "print(\"Antal unikke kunder for '15044A':\", df_15044A_sby_customer['CustomerID'].nunique())\n",
    "\n",
    "display(df_15044A_sby_customer.head())\n",
    "\n",
    "display(df_15044A_sby_customer.groupby('CustomerID').count())\n",
    "display(df_15044A_sby_customer.groupby('CustomerID')['InvoiceNo'].count())\n",
    "display(df_15044A_sby_customer.groupby('CustomerID').size())\n",
    "\n",
    "\n",
    "# Konklusion: Der er helt sikker kunder der har købt det samme produkt flere gange."
   ]
  },
  {
   "cell_type": "code",
   "execution_count": null,
   "id": "a79f6fc9",
   "metadata": {},
   "outputs": [],
   "source": []
  },
  {
   "cell_type": "code",
   "execution_count": 22,
   "id": "f59f6a34",
   "metadata": {},
   "outputs": [
    {
     "data": {
      "text/html": [
       "<div>\n",
       "<style scoped>\n",
       "    .dataframe tbody tr th:only-of-type {\n",
       "        vertical-align: middle;\n",
       "    }\n",
       "\n",
       "    .dataframe tbody tr th {\n",
       "        vertical-align: top;\n",
       "    }\n",
       "\n",
       "    .dataframe thead th {\n",
       "        text-align: right;\n",
       "    }\n",
       "</style>\n",
       "<table border=\"1\" class=\"dataframe\">\n",
       "  <thead>\n",
       "    <tr style=\"text-align: right;\">\n",
       "      <th></th>\n",
       "      <th>InvoiceNo</th>\n",
       "      <th>StockCode</th>\n",
       "      <th>Description</th>\n",
       "      <th>Quantity</th>\n",
       "      <th>InvoiceDate</th>\n",
       "      <th>UnitPrice</th>\n",
       "      <th>CustomerID</th>\n",
       "      <th>Country</th>\n",
       "    </tr>\n",
       "  </thead>\n",
       "  <tbody>\n",
       "    <tr>\n",
       "      <th>0</th>\n",
       "      <td>536365</td>\n",
       "      <td>85123A</td>\n",
       "      <td>WHITE HANGING HEART T-LIGHT HOLDER</td>\n",
       "      <td>6</td>\n",
       "      <td>12/1/2010 8:26</td>\n",
       "      <td>2.55</td>\n",
       "      <td>17850</td>\n",
       "      <td>United Kingdom</td>\n",
       "    </tr>\n",
       "    <tr>\n",
       "      <th>1</th>\n",
       "      <td>536365</td>\n",
       "      <td>71053</td>\n",
       "      <td>WHITE METAL LANTERN</td>\n",
       "      <td>6</td>\n",
       "      <td>12/1/2010 8:26</td>\n",
       "      <td>3.39</td>\n",
       "      <td>17850</td>\n",
       "      <td>United Kingdom</td>\n",
       "    </tr>\n",
       "    <tr>\n",
       "      <th>2</th>\n",
       "      <td>536365</td>\n",
       "      <td>84406B</td>\n",
       "      <td>CREAM CUPID HEARTS COAT HANGER</td>\n",
       "      <td>8</td>\n",
       "      <td>12/1/2010 8:26</td>\n",
       "      <td>2.75</td>\n",
       "      <td>17850</td>\n",
       "      <td>United Kingdom</td>\n",
       "    </tr>\n",
       "    <tr>\n",
       "      <th>3</th>\n",
       "      <td>536365</td>\n",
       "      <td>84029G</td>\n",
       "      <td>KNITTED UNION FLAG HOT WATER BOTTLE</td>\n",
       "      <td>6</td>\n",
       "      <td>12/1/2010 8:26</td>\n",
       "      <td>3.39</td>\n",
       "      <td>17850</td>\n",
       "      <td>United Kingdom</td>\n",
       "    </tr>\n",
       "    <tr>\n",
       "      <th>4</th>\n",
       "      <td>536365</td>\n",
       "      <td>84029E</td>\n",
       "      <td>RED WOOLLY HOTTIE WHITE HEART.</td>\n",
       "      <td>6</td>\n",
       "      <td>12/1/2010 8:26</td>\n",
       "      <td>3.39</td>\n",
       "      <td>17850</td>\n",
       "      <td>United Kingdom</td>\n",
       "    </tr>\n",
       "  </tbody>\n",
       "</table>\n",
       "</div>"
      ],
      "text/plain": [
       "  InvoiceNo StockCode                          Description  Quantity  \\\n",
       "0    536365    85123A   WHITE HANGING HEART T-LIGHT HOLDER         6   \n",
       "1    536365     71053                  WHITE METAL LANTERN         6   \n",
       "2    536365    84406B       CREAM CUPID HEARTS COAT HANGER         8   \n",
       "3    536365    84029G  KNITTED UNION FLAG HOT WATER BOTTLE         6   \n",
       "4    536365    84029E       RED WOOLLY HOTTIE WHITE HEART.         6   \n",
       "\n",
       "      InvoiceDate  UnitPrice CustomerID         Country  \n",
       "0  12/1/2010 8:26       2.55      17850  United Kingdom  \n",
       "1  12/1/2010 8:26       3.39      17850  United Kingdom  \n",
       "2  12/1/2010 8:26       2.75      17850  United Kingdom  \n",
       "3  12/1/2010 8:26       3.39      17850  United Kingdom  \n",
       "4  12/1/2010 8:26       3.39      17850  United Kingdom  "
      ]
     },
     "execution_count": 22,
     "metadata": {},
     "output_type": "execute_result"
    }
   ],
   "source": [
    "df.head()"
   ]
  },
  {
   "cell_type": "code",
   "execution_count": 25,
   "id": "17b7c1fd",
   "metadata": {},
   "outputs": [
    {
     "data": {
      "text/html": [
       "<div>\n",
       "<style scoped>\n",
       "    .dataframe tbody tr th:only-of-type {\n",
       "        vertical-align: middle;\n",
       "    }\n",
       "\n",
       "    .dataframe tbody tr th {\n",
       "        vertical-align: top;\n",
       "    }\n",
       "\n",
       "    .dataframe thead th {\n",
       "        text-align: right;\n",
       "    }\n",
       "</style>\n",
       "<table border=\"1\" class=\"dataframe\">\n",
       "  <thead>\n",
       "    <tr style=\"text-align: right;\">\n",
       "      <th></th>\n",
       "      <th>InvoiceNo</th>\n",
       "      <th>StockCode</th>\n",
       "      <th>Description</th>\n",
       "      <th>Quantity</th>\n",
       "      <th>InvoiceDate</th>\n",
       "      <th>UnitPrice</th>\n",
       "      <th>CustomerID</th>\n",
       "      <th>Country</th>\n",
       "    </tr>\n",
       "  </thead>\n",
       "  <tbody>\n",
       "    <tr>\n",
       "      <th>0</th>\n",
       "      <td>536365</td>\n",
       "      <td>85123A</td>\n",
       "      <td>WHITE HANGING HEART T-LIGHT HOLDER</td>\n",
       "      <td>6</td>\n",
       "      <td>12/1/2010 8:26</td>\n",
       "      <td>2.55</td>\n",
       "      <td>17850</td>\n",
       "      <td>United Kingdom</td>\n",
       "    </tr>\n",
       "    <tr>\n",
       "      <th>1</th>\n",
       "      <td>536365</td>\n",
       "      <td>71053</td>\n",
       "      <td>WHITE METAL LANTERN</td>\n",
       "      <td>6</td>\n",
       "      <td>12/1/2010 8:26</td>\n",
       "      <td>3.39</td>\n",
       "      <td>17850</td>\n",
       "      <td>United Kingdom</td>\n",
       "    </tr>\n",
       "    <tr>\n",
       "      <th>2</th>\n",
       "      <td>536365</td>\n",
       "      <td>84406B</td>\n",
       "      <td>CREAM CUPID HEARTS COAT HANGER</td>\n",
       "      <td>8</td>\n",
       "      <td>12/1/2010 8:26</td>\n",
       "      <td>2.75</td>\n",
       "      <td>17850</td>\n",
       "      <td>United Kingdom</td>\n",
       "    </tr>\n",
       "    <tr>\n",
       "      <th>3</th>\n",
       "      <td>536365</td>\n",
       "      <td>84029G</td>\n",
       "      <td>KNITTED UNION FLAG HOT WATER BOTTLE</td>\n",
       "      <td>6</td>\n",
       "      <td>12/1/2010 8:26</td>\n",
       "      <td>3.39</td>\n",
       "      <td>17850</td>\n",
       "      <td>United Kingdom</td>\n",
       "    </tr>\n",
       "    <tr>\n",
       "      <th>4</th>\n",
       "      <td>536365</td>\n",
       "      <td>84029E</td>\n",
       "      <td>RED WOOLLY HOTTIE WHITE HEART.</td>\n",
       "      <td>6</td>\n",
       "      <td>12/1/2010 8:26</td>\n",
       "      <td>3.39</td>\n",
       "      <td>17850</td>\n",
       "      <td>United Kingdom</td>\n",
       "    </tr>\n",
       "    <tr>\n",
       "      <th>...</th>\n",
       "      <td>...</td>\n",
       "      <td>...</td>\n",
       "      <td>...</td>\n",
       "      <td>...</td>\n",
       "      <td>...</td>\n",
       "      <td>...</td>\n",
       "      <td>...</td>\n",
       "      <td>...</td>\n",
       "    </tr>\n",
       "    <tr>\n",
       "      <th>86898</th>\n",
       "      <td>C543611</td>\n",
       "      <td>82483</td>\n",
       "      <td>WOOD 2 DRAWER CABINET WHITE FINISH</td>\n",
       "      <td>-1</td>\n",
       "      <td>2/10/2011 14:38</td>\n",
       "      <td>4.95</td>\n",
       "      <td>17850</td>\n",
       "      <td>United Kingdom</td>\n",
       "    </tr>\n",
       "    <tr>\n",
       "      <th>86899</th>\n",
       "      <td>C543611</td>\n",
       "      <td>21874</td>\n",
       "      <td>GIN AND TONIC MUG</td>\n",
       "      <td>-1</td>\n",
       "      <td>2/10/2011 14:38</td>\n",
       "      <td>1.06</td>\n",
       "      <td>17850</td>\n",
       "      <td>United Kingdom</td>\n",
       "    </tr>\n",
       "    <tr>\n",
       "      <th>86900</th>\n",
       "      <td>C543611</td>\n",
       "      <td>71477</td>\n",
       "      <td>COLOUR GLASS. STAR T-LIGHT HOLDER</td>\n",
       "      <td>-2</td>\n",
       "      <td>2/10/2011 14:38</td>\n",
       "      <td>2.75</td>\n",
       "      <td>17850</td>\n",
       "      <td>United Kingdom</td>\n",
       "    </tr>\n",
       "    <tr>\n",
       "      <th>86901</th>\n",
       "      <td>C543611</td>\n",
       "      <td>82483</td>\n",
       "      <td>WOOD 2 DRAWER CABINET WHITE FINISH</td>\n",
       "      <td>-1</td>\n",
       "      <td>2/10/2011 14:38</td>\n",
       "      <td>4.95</td>\n",
       "      <td>17850</td>\n",
       "      <td>United Kingdom</td>\n",
       "    </tr>\n",
       "    <tr>\n",
       "      <th>86902</th>\n",
       "      <td>C543611</td>\n",
       "      <td>21169</td>\n",
       "      <td>YOU'RE CONFUSING ME METAL SIGN</td>\n",
       "      <td>-2</td>\n",
       "      <td>2/10/2011 14:38</td>\n",
       "      <td>1.45</td>\n",
       "      <td>17850</td>\n",
       "      <td>United Kingdom</td>\n",
       "    </tr>\n",
       "  </tbody>\n",
       "</table>\n",
       "<p>312 rows × 8 columns</p>\n",
       "</div>"
      ],
      "text/plain": [
       "      InvoiceNo StockCode                          Description  Quantity  \\\n",
       "0        536365    85123A   WHITE HANGING HEART T-LIGHT HOLDER         6   \n",
       "1        536365     71053                  WHITE METAL LANTERN         6   \n",
       "2        536365    84406B       CREAM CUPID HEARTS COAT HANGER         8   \n",
       "3        536365    84029G  KNITTED UNION FLAG HOT WATER BOTTLE         6   \n",
       "4        536365    84029E       RED WOOLLY HOTTIE WHITE HEART.         6   \n",
       "...         ...       ...                                  ...       ...   \n",
       "86898   C543611     82483   WOOD 2 DRAWER CABINET WHITE FINISH        -1   \n",
       "86899   C543611     21874                    GIN AND TONIC MUG        -1   \n",
       "86900   C543611     71477    COLOUR GLASS. STAR T-LIGHT HOLDER        -2   \n",
       "86901   C543611     82483   WOOD 2 DRAWER CABINET WHITE FINISH        -1   \n",
       "86902   C543611     21169      YOU'RE CONFUSING ME METAL SIGN         -2   \n",
       "\n",
       "           InvoiceDate  UnitPrice CustomerID         Country  \n",
       "0       12/1/2010 8:26       2.55      17850  United Kingdom  \n",
       "1       12/1/2010 8:26       3.39      17850  United Kingdom  \n",
       "2       12/1/2010 8:26       2.75      17850  United Kingdom  \n",
       "3       12/1/2010 8:26       3.39      17850  United Kingdom  \n",
       "4       12/1/2010 8:26       3.39      17850  United Kingdom  \n",
       "...                ...        ...        ...             ...  \n",
       "86898  2/10/2011 14:38       4.95      17850  United Kingdom  \n",
       "86899  2/10/2011 14:38       1.06      17850  United Kingdom  \n",
       "86900  2/10/2011 14:38       2.75      17850  United Kingdom  \n",
       "86901  2/10/2011 14:38       4.95      17850  United Kingdom  \n",
       "86902  2/10/2011 14:38       1.45      17850  United Kingdom  \n",
       "\n",
       "[312 rows x 8 columns]"
      ]
     },
     "execution_count": 25,
     "metadata": {},
     "output_type": "execute_result"
    }
   ],
   "source": [
    "df_gby_user = df.groupby('CustomerID')\n",
    "# df_gby_user['17850']\n",
    "df_gby_user.get_group('17850')"
   ]
  },
  {
   "cell_type": "code",
   "execution_count": 26,
   "id": "b5502db5",
   "metadata": {},
   "outputs": [
    {
     "data": {
      "text/plain": [
       "'1.3.0'"
      ]
     },
     "execution_count": 26,
     "metadata": {},
     "output_type": "execute_result"
    }
   ],
   "source": [
    "pd.__version__"
   ]
  },
  {
   "cell_type": "code",
   "execution_count": null,
   "id": "431196fe",
   "metadata": {},
   "outputs": [],
   "source": []
  }
 ],
 "metadata": {
  "kernelspec": {
   "display_name": "Python 3 (ipykernel)",
   "language": "python",
   "name": "python3"
  },
  "language_info": {
   "codemirror_mode": {
    "name": "ipython",
    "version": 3
   },
   "file_extension": ".py",
   "mimetype": "text/x-python",
   "name": "python",
   "nbconvert_exporter": "python",
   "pygments_lexer": "ipython3",
   "version": "3.9.5"
  }
 },
 "nbformat": 4,
 "nbformat_minor": 5
}
